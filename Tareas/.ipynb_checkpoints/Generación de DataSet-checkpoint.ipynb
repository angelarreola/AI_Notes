{
 "cells": [
  {
   "cell_type": "markdown",
   "id": "d84c6271",
   "metadata": {},
   "source": [
    "## Codigo para capturar un cuadro en especifico.\n",
    "A traves del siguiente codigo se captura video de manera que al pulsar la tecla \"S\" se guardara una imagen del area que delimitamos."
   ]
  },
  {
   "cell_type": "code",
   "execution_count": null,
   "id": "24d04fd3",
   "metadata": {},
   "outputs": [],
   "source": [
    "import cv2 as cv\n",
    "\n",
    "cap = cv.VideoCapture(0)\n",
    "i = 0\n",
    "while True:\n",
    "    ret, frame = cap.read()\n",
    "    frame = cv.rectangle(frame, (100,100), (400,400), (0,255,0), 2)\n",
    "    cara = frame(100:400, 100:400)\n",
    "    \n",
    "    # Escala la cara a un tamaño deseado (por ejemplo, 200x200 píxeles)\n",
    "    cara_redimensionada = cv.resize(cara, (200, 200))\n",
    "    \n",
    "    \n",
    "    cv.imshow('rostros', frame)\n",
    "    cv.imshow('cara', cara)\n",
    "    cv.imshow('cara_Resize', cara_redimensionada)\n",
    "    \n",
    "    k = cv.waitKey(1)\n",
    "    if k == ord('S'):\n",
    "        i=i+1\n",
    "        cv.imwrite('C:\\\\Users\\\\angel\\\\Desktop\\\\AI\\\\Tareas\\\\DataSet_Caras_Cubrebocas\\\\caraCubre_' + str(i) + '.jpg', cara)\n",
    "    if k == 27:\n",
    "        break\n",
    "    cap.release()\n",
    "    cv.destroyAllWindows()\n",
    "    "
   ]
  },
  {
   "cell_type": "markdown",
   "id": "7b3147af",
   "metadata": {},
   "source": [
    "Tarea, escalar la imagen (No se si si jale xdxd), y como se podria detectar si alguien se esta durmiendo o no."
   ]
  },
  {
   "cell_type": "code",
   "execution_count": null,
   "id": "7b755b84",
   "metadata": {},
   "outputs": [],
   "source": []
  }
 ],
 "metadata": {
  "kernelspec": {
   "display_name": "Python 3 (ipykernel)",
   "language": "python",
   "name": "python3"
  },
  "language_info": {
   "codemirror_mode": {
    "name": "ipython",
    "version": 3
   },
   "file_extension": ".py",
   "mimetype": "text/x-python",
   "name": "python",
   "nbconvert_exporter": "python",
   "pygments_lexer": "ipython3",
   "version": "3.11.4"
  }
 },
 "nbformat": 4,
 "nbformat_minor": 5
}
