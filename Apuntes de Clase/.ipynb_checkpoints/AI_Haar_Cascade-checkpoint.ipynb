{
 "cells": [
  {
   "cell_type": "markdown",
   "id": "e7dc563f",
   "metadata": {},
   "source": [
    "## AI_CascadeClassifier -> HaarCascade > Seguimiento por clasificacion\n",
    "\n",
    "Se uso el Haar Cascade de caras de frente, hay algunos mas que se encuentran en el siguiente repositorio:\n",
    "https://github.com/opencv/opencv/tree/master/data/haarcascades"
   ]
  },
  {
   "cell_type": "code",
   "execution_count": null,
   "id": "b916b414",
   "metadata": {},
   "outputs": [],
   "source": [
    "import numpy as np\n",
    "import cv2 as cv\n",
    "import math \n",
    "\n",
    "rostro = cv.CascadeClassifier('C:\\\\Users\\\\angel\\\\Desktop\\\\AI\\\\haarcascade_frontalface_alt.xml')\n",
    "cap = cv.VideoCapture(0)\n",
    "while True:\n",
    "    ret, frame = cap.read()\n",
    "    gray = cv.cvtColor(frame, cv.COLOR_BGR2GRAY)\n",
    "    # Se busca la estrucutura de la cara a diferentes escalas\n",
    "    rostros = rostro.detectMultiScale(gray, 1.3, 5) # Los valores de 1.3 y 5 son valores para ajustar la clasificacion.\n",
    "    for(x, y, w, h) in rostros:\n",
    "        # Primitiva de dibujo\n",
    "        frame = cv.rectangle(frame, (x,y), (x+w, y+h), (255, 0, 0), 5)\n",
    "    cv.imshow('rostros', frame)\n",
    "    k = cv.waitKey(1)\n",
    "    if k == 27:\n",
    "        break\n",
    "cap.release()\n",
    "cv.destroyAllWindows()\n",
    "\n",
    "import cv2 as cv\n",
    "\n",
    "rostro = cv.CascadeClassifier()\n",
    "cap = cv.VideoCapture(0)"
   ]
  },
  {
   "cell_type": "markdown",
   "id": "e8f0029b",
   "metadata": {},
   "source": [
    "### Diferencia con redes neuronales\n",
    "\n",
    "La diferencia con las redes neuronales es que estas solo ocupan los casos positivos mientras que en los Haar Cascades se ocupan casos negativos tambien."
   ]
  },
  {
   "cell_type": "markdown",
   "id": "4ecc3c47",
   "metadata": {},
   "source": [
    "## Pregunta de examen, ojito.\n",
    "Unicamente los modelos convolucionales tienen imagenes de entrada.\n",
    "\n",
    "\n",
    "Cuando generamos un modelo convolucional metemos una IMAGEN,"
   ]
  },
  {
   "cell_type": "markdown",
   "id": "81537290",
   "metadata": {},
   "source": [
    "## Ejemplo de como crear otro trazo"
   ]
  },
  {
   "cell_type": "code",
   "execution_count": null,
   "id": "58d23dc1",
   "metadata": {},
   "outputs": [],
   "source": [
    "import numpy as np\n",
    "import cv2 as cv\n",
    "import math \n",
    "\n",
    "rostro = cv.CascadeClassifier('C:\\\\Users\\\\angel\\\\Desktop\\\\AI\\\\haarcascade_frontalface_alt.xml')\n",
    "cap = cv.VideoCapture(0)\n",
    "while True:\n",
    "    ret, frame = cap.read()\n",
    "    gray = cv.cvtColor(frame, cv.COLOR_BGR2GRAY)\n",
    "    # Se busca la estrucutura de la cara a diferentes escalas\n",
    "    rostros = rostro.detectMultiScale(gray, 1.3, 5) # Los valores de 1.3 y 5 son valores para ajustar la clasificacion.\n",
    "    for(x, y, w, h) in rostros:\n",
    "        # Primitiva de dibujo\n",
    "        frame = cv.rectangle(frame, (x,y), (x+w, y+h), (255, 0, 0), 2)\n",
    "        frame = cv.rectangle(frame, (x+20,y+20), (x+w-50, y+h-50), (0, 255, 0), 5) #Aqui estamos trasladando, haciendo una transformada geometrica.\n",
    "        frame = cv.circle(frame, (x+int(w/2),y+int(h/2)), 60, (0, 0, 255), 2) #Aqui estamos trasladando, haciendo una transformada geometrica.\n",
    "    cv.imshow('rostros', frame)\n",
    "    k = cv.waitKey(1)\n",
    "    if k == 27:\n",
    "        break\n",
    "cap.release()\n",
    "cv.destroyAllWindows()\n",
    "\n",
    "import cv2 as cv\n",
    "\n",
    "rostro = cv.CascadeClassifier()\n",
    "cap = cv.VideoCapture(0)"
   ]
  },
  {
   "cell_type": "markdown",
   "id": "efbbf3ca",
   "metadata": {},
   "source": [
    "## Creacion del DataSet\n",
    "Crearemos un algoritmo capaz de poder sacar informacion de cada parte especifica del rostro para posterior a eso, extraer la informacion de esas secciones en especifico y alimentar a un DataSet.\n",
    "\n",
    "UPDATE: Se realizaron las modificaciones para que detectara los dos ojos, la nariz y la boca, solo faltaria la orden para poder crear el DATASET de nuestro rostro."
   ]
  },
  {
   "cell_type": "code",
   "execution_count": 8,
   "id": "abbf5251",
   "metadata": {},
   "outputs": [],
   "source": [
    "import numpy as np\n",
    "import cv2 as cv\n",
    "import math \n",
    "\n",
    "rostro = cv.CascadeClassifier('C:\\\\Users\\\\angel\\\\Desktop\\\\AI\\\\Apuntes de Clase\\\\haarcascade_frontalface_alt.xml')\n",
    "cap = cv.VideoCapture(0)\n",
    "i = 0\n",
    "while True:\n",
    "    ret, frame = cap.read()\n",
    "    i = i + 1\n",
    "    gray = cv.cvtColor(frame, cv.COLOR_BGR2GRAY)\n",
    "    # Se busca la estrucutura de la cara a diferentes escalas\n",
    "    rostros = rostro.detectMultiScale(gray, 1.3, 5) # Los valores de 1.3 y 5 son valores para ajustar la clasificacion.\n",
    "    for(x, y, w, h) in rostros:\n",
    "        # Primitiva de dibujo\n",
    "        frame1 = cv.rectangle(frame, (x,y), (x+w, y+h), (255, 0, 0), 2)\n",
    "        frame2 = cv.rectangle(frame1, (x+40,y+45), (x+w-100, y+h-100), (0, 0, 255), 1) # Ojo Izquierdo\n",
    "        frame3 = cv.rectangle(frame1, (x+120,y+45), (x+w-25, y+h-100), (0, 0, 255), 1) # Ojo Derecho\n",
    "        frame4 = cv.rectangle(frame1, (x+80,y+60), (x+w-75, y+h-60), (0, 255, 0), 1) # Nariz\n",
    "        frame5 = cv.rectangle(frame1, (x+55,y+140), (x+w-50, y+h-10), (255, 128, 0), 1) #Boca\n",
    "        \n",
    "        \n",
    "    cv.imshow('rostros', frame)\n",
    "#     cv.imwrite('ruta/ej'+str(i)+'.jpg', frame)\n",
    "    k = cv.waitKey(1)\n",
    "    if k == 27:\n",
    "        break\n",
    "cap.release()\n",
    "cv.destroyAllWindows()\n",
    "\n",
    "import cv2 as cv\n",
    "\n",
    "rostro = cv.CascadeClassifier()\n",
    "cap = cv.VideoCapture(0)"
   ]
  }
 ],
 "metadata": {
  "kernelspec": {
   "display_name": "Python 3 (ipykernel)",
   "language": "python",
   "name": "python3"
  },
  "language_info": {
   "codemirror_mode": {
    "name": "ipython",
    "version": 3
   },
   "file_extension": ".py",
   "mimetype": "text/x-python",
   "name": "python",
   "nbconvert_exporter": "python",
   "pygments_lexer": "ipython3",
   "version": "3.11.4"
  }
 },
 "nbformat": 4,
 "nbformat_minor": 5
}
