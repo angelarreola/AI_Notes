{
 "cells": [
  {
   "cell_type": "markdown",
   "id": "0814da5c",
   "metadata": {},
   "source": [
    "# Clase 1 - OpenCV en Python"
   ]
  },
  {
   "cell_type": "markdown",
   "id": "909d134b",
   "metadata": {},
   "source": [
    "### Probando OpenCV\n",
    "Probamos la libreria de manera que abrimos una imagen seleccionada y nos muestra dicha imagen pero con los valores de cada pixel imprimiendo sus valores de RGB. Al poner la bandera en 0 al seleccionar la imagen a usar se nos muestra en escala de grises."
   ]
  },
  {
   "cell_type": "code",
   "execution_count": 4,
   "id": "a9b536d8",
   "metadata": {},
   "outputs": [],
   "source": [
    "import cv2 as cv\n",
    "img = cv.imread('C:\\\\Users\\\\angel\\\\Desktop\\\\AI\\\\Ejercicios en Clase\\\\carretera1.jpg', 1)\n",
    "img2 = cv.cvtColor(img, cv.COLOR_BGR2RGB)\n",
    "img3 = cv.cvtColor(img2, cv.COLOR_RGB2HSV)\n",
    "\n",
    "umbralbajo = (0, 0, 80)\n",
    "umbralalto = (180, 40, 255)\n",
    "\n",
    "\n",
    "mascara = cv.inRange(img3, umbralbajo, umbralalto)\n",
    "\n",
    "\n",
    "resultado = cv.bitwise_and(img, img, mask=mascara)\n",
    "\n",
    "cv.imshow('normal', img)\n",
    "cv.imshow('mascara', mascara)\n",
    "\n",
    "cv.waitKey(0)\n",
    "cv.destroyAllWindows()\n"
   ]
  },
  {
   "cell_type": "markdown",
   "id": "62d31bad",
   "metadata": {},
   "source": [
    "## Otro metodo..."
   ]
  },
  {
   "cell_type": "code",
   "execution_count": 11,
   "id": "b40f0700",
   "metadata": {},
   "outputs": [],
   "source": [
    "import cv2 as cv\n",
    "img = cv.imread('C:\\\\Users\\\\angel\\\\Desktop\\\\AI\\\\Ejercicios en Clase\\\\carretera1.jpg', 0)\n",
    "\n",
    "w,h = img.shape\n",
    "\n",
    "for i in range(w):\n",
    "    for j in range(h):\n",
    "        img[i,j] = 255 - img[i,j]\n",
    "        \n",
    "img2 = cv.cvtColor(img, cv.COLOR_BGR2RGB)\n",
    "# umbralbajo = (0, 0, 80)\n",
    "# umbralalto = (180, 40, 255)\n",
    "# mascara = cv.inRange(img3, umbralbajo, umbralalto)\n",
    "# resultado = cv.bitwise_and(img, img, mask=mascara)\n",
    "\n",
    "cv.imshow('normal', img2)\n",
    "# cv.imshow('normal', resultado)\n",
    "cv.waitKey(0)\n",
    "cv.destroyAllWindows()"
   ]
  },
  {
   "cell_type": "code",
   "execution_count": null,
   "id": "6fc30ecf",
   "metadata": {},
   "outputs": [],
   "source": []
  }
 ],
 "metadata": {
  "kernelspec": {
   "display_name": "Python 3 (ipykernel)",
   "language": "python",
   "name": "python3"
  },
  "language_info": {
   "codemirror_mode": {
    "name": "ipython",
    "version": 3
   },
   "file_extension": ".py",
   "mimetype": "text/x-python",
   "name": "python",
   "nbconvert_exporter": "python",
   "pygments_lexer": "ipython3",
   "version": "3.11.4"
  }
 },
 "nbformat": 4,
 "nbformat_minor": 5
}
